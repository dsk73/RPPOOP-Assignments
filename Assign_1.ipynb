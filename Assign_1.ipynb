{
 "cells": [
  {
   "attachments": {},
   "cell_type": "markdown",
   "metadata": {},
   "source": [
    "# Assignment 1\n"
   ]
  },
  {
   "cell_type": "code",
   "execution_count": 1,
   "metadata": {},
   "outputs": [],
   "source": [
    "class A:\n",
    "    def __init__(self):\n",
    "        print(\"Hello! This is class A.\\n\")\n",
    "class B:\n",
    "    def __init__(self):\n",
    "        print(\"Hello! This is  class B.\\n\")"
   ]
  },
  {
   "cell_type": "code",
   "execution_count": 2,
   "metadata": {},
   "outputs": [],
   "source": [
    "class C(A):\n",
    "    def __init__(self):\n",
    "        print(\"Hello! This is class C which is a child class of class A.\\n\")"
   ]
  },
  {
   "cell_type": "code",
   "execution_count": 3,
   "metadata": {},
   "outputs": [],
   "source": [
    "class D(C):\n",
    "    def __init__(self):\n",
    "        print(\"Hello! This is  class D which is a child class of class C and grandchild of class A.\\n\")"
   ]
  },
  {
   "cell_type": "code",
   "execution_count": 4,
   "metadata": {},
   "outputs": [],
   "source": [
    "class E(A, B):\n",
    "    def __init__(self):\n",
    "        print(\"Hello! This is class E which is a child class of classes A and B.\\n\")"
   ]
  },
  {
   "cell_type": "code",
   "execution_count": 5,
   "metadata": {},
   "outputs": [],
   "source": [
    "class F(B):\n",
    "    def __init__(self):\n",
    "        print(\"Hello! This is class F which is a child class of class B.\")\n",
    "class G(B):\n",
    "    def __init__(self):\n",
    "        print(\"Hello! This is class G which is a child class of class B.\\n\")"
   ]
  },
  {
   "cell_type": "code",
   "execution_count": 6,
   "metadata": {},
   "outputs": [],
   "source": [
    "def Menu():\n",
    "    print(\"Choose an option:\")\n",
    "    print(\"1. Single Inheritance\")\n",
    "    print(\"2. Multilevel Inheritance\")\n",
    "    print(\"3. Multiple Inheritance\")\n",
    "    print(\"4. Hierarchical Inheritance\")\n",
    "    print(\"5. Exit\")"
   ]
  },
  {
   "cell_type": "code",
   "execution_count": 7,
   "metadata": {},
   "outputs": [],
   "source": [
    "def SingleInher():\n",
    "    obj1 = C()\n",
    "    return"
   ]
  },
  {
   "cell_type": "code",
   "execution_count": 8,
   "metadata": {},
   "outputs": [],
   "source": [
    "def MultilevelInher():\n",
    "    obj2 = D()\n",
    "    return"
   ]
  },
  {
   "cell_type": "code",
   "execution_count": 9,
   "metadata": {},
   "outputs": [],
   "source": [
    "def MultipleInher():\n",
    "    obj3 = E()\n",
    "    return"
   ]
  },
  {
   "cell_type": "code",
   "execution_count": 10,
   "metadata": {},
   "outputs": [],
   "source": [
    "def HierarchicalInher():\n",
    "    obj4 = F()\n",
    "    obj5 = G()\n",
    "    return"
   ]
  },
  {
   "cell_type": "code",
   "execution_count": 12,
   "metadata": {},
   "outputs": [
    {
     "name": "stdout",
     "output_type": "stream",
     "text": [
      "Choose an option:\n",
      "1. Single Inheritance\n",
      "2. Multilevel Inheritance\n",
      "3. Multiple Inheritance\n",
      "4. Hierarchical Inheritance\n",
      "5. Exit\n",
      "Hello! This is class C which is a child class of class A.\n",
      "\n",
      "Choose an option:\n",
      "1. Single Inheritance\n",
      "2. Multilevel Inheritance\n",
      "3. Multiple Inheritance\n",
      "4. Hierarchical Inheritance\n",
      "5. Exit\n",
      "Hello! This is  class D which is a child class of class C and grandchild of class A.\n",
      "\n",
      "Choose an option:\n",
      "1. Single Inheritance\n",
      "2. Multilevel Inheritance\n",
      "3. Multiple Inheritance\n",
      "4. Hierarchical Inheritance\n",
      "5. Exit\n",
      "Hello! This is class E which is a child class of classes A and B.\n",
      "\n",
      "Choose an option:\n",
      "1. Single Inheritance\n",
      "2. Multilevel Inheritance\n",
      "3. Multiple Inheritance\n",
      "4. Hierarchical Inheritance\n",
      "5. Exit\n",
      "Hello! This is class F which is a child class of class B.\n",
      "\n",
      "Hello! This is class G which is a child class of class B.\n",
      "\n",
      "Choose an option:\n",
      "1. Single Inheritance\n",
      "2. Multilevel Inheritance\n",
      "3. Multiple Inheritance\n",
      "4. Hierarchical Inheritance\n",
      "5. Exit\n",
      "Exiting...\n",
      "Thank you.\n"
     ]
    }
   ],
   "source": [
    "while True:\n",
    "    Menu()\n",
    "\n",
    "    try:\n",
    "        choice = int(input(\"Enter your choice: \"))\n",
    "\n",
    "        if choice == 1:\n",
    "            SingleInher()\n",
    "        elif choice == 2:\n",
    "            MultilevelInher()\n",
    "        elif choice == 3:\n",
    "            MultipleInher()\n",
    "        elif choice == 4:\n",
    "            HierarchicalInher()\n",
    "        elif choice == 5:\n",
    "            print(\"Exiting...\")\n",
    "            print(\"Thank you.\")\n",
    "            break\n",
    "        else:\n",
    "            print(\"Invalid choice!\")\n",
    "    except ValueError:\n",
    "        print(\"Invalid choice! Please enter a valid integer.\")\n",
    "\n"
   ]
  }
 ],
 "metadata": {
  "kernelspec": {
   "display_name": "Python 3",
   "language": "python",
   "name": "python3"
  },
  "language_info": {
   "codemirror_mode": {
    "name": "ipython",
    "version": 3
   },
   "file_extension": ".py",
   "mimetype": "text/x-python",
   "name": "python",
   "nbconvert_exporter": "python",
   "pygments_lexer": "ipython3",
   "version": "3.10.0"
  },
  "orig_nbformat": 4
 },
 "nbformat": 4,
 "nbformat_minor": 2
}
