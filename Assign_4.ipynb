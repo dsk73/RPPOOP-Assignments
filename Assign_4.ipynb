{
 "cells": [
  {
   "cell_type": "code",
   "execution_count": 9,
   "id": "8170e29b",
   "metadata": {},
   "outputs": [],
   "source": [
    "# Assgnment 4:  Write a program to display two labels with different colored background. Write a program to display a menu on the menu bar."
   ]
  },
  {
   "cell_type": "code",
   "execution_count": 10,
   "id": "fa884c08",
   "metadata": {},
   "outputs": [
    {
     "ename": "KeyboardInterrupt",
     "evalue": "",
     "output_type": "error",
     "traceback": [
      "\u001b[1;31m---------------------------------------------------------------------------\u001b[0m",
      "\u001b[1;31mKeyboardInterrupt\u001b[0m                         Traceback (most recent call last)",
      "\u001b[1;32m~\\AppData\\Local\\Temp\\ipykernel_17164\\303007798.py\u001b[0m in \u001b[0;36m<module>\u001b[1;34m\u001b[0m\n\u001b[0;32m      9\u001b[0m \u001b[0mlabel2\u001b[0m\u001b[1;33m.\u001b[0m\u001b[0mpack\u001b[0m\u001b[1;33m(\u001b[0m\u001b[1;33m)\u001b[0m\u001b[1;33m\u001b[0m\u001b[1;33m\u001b[0m\u001b[0m\n\u001b[0;32m     10\u001b[0m \u001b[1;33m\u001b[0m\u001b[0m\n\u001b[1;32m---> 11\u001b[1;33m \u001b[0mroot\u001b[0m\u001b[1;33m.\u001b[0m\u001b[0mmainloop\u001b[0m\u001b[1;33m(\u001b[0m\u001b[1;33m)\u001b[0m\u001b[1;33m\u001b[0m\u001b[1;33m\u001b[0m\u001b[0m\n\u001b[0m",
      "\u001b[1;32m~\\anaconda3\\lib\\tkinter\\__init__.py\u001b[0m in \u001b[0;36mmainloop\u001b[1;34m(self, n)\u001b[0m\n\u001b[0;32m   1427\u001b[0m     \u001b[1;32mdef\u001b[0m \u001b[0mmainloop\u001b[0m\u001b[1;33m(\u001b[0m\u001b[0mself\u001b[0m\u001b[1;33m,\u001b[0m \u001b[0mn\u001b[0m\u001b[1;33m=\u001b[0m\u001b[1;36m0\u001b[0m\u001b[1;33m)\u001b[0m\u001b[1;33m:\u001b[0m\u001b[1;33m\u001b[0m\u001b[1;33m\u001b[0m\u001b[0m\n\u001b[0;32m   1428\u001b[0m         \u001b[1;34m\"\"\"Call the mainloop of Tk.\"\"\"\u001b[0m\u001b[1;33m\u001b[0m\u001b[1;33m\u001b[0m\u001b[0m\n\u001b[1;32m-> 1429\u001b[1;33m         \u001b[0mself\u001b[0m\u001b[1;33m.\u001b[0m\u001b[0mtk\u001b[0m\u001b[1;33m.\u001b[0m\u001b[0mmainloop\u001b[0m\u001b[1;33m(\u001b[0m\u001b[0mn\u001b[0m\u001b[1;33m)\u001b[0m\u001b[1;33m\u001b[0m\u001b[1;33m\u001b[0m\u001b[0m\n\u001b[0m\u001b[0;32m   1430\u001b[0m \u001b[1;33m\u001b[0m\u001b[0m\n\u001b[0;32m   1431\u001b[0m     \u001b[1;32mdef\u001b[0m \u001b[0mquit\u001b[0m\u001b[1;33m(\u001b[0m\u001b[0mself\u001b[0m\u001b[1;33m)\u001b[0m\u001b[1;33m:\u001b[0m\u001b[1;33m\u001b[0m\u001b[1;33m\u001b[0m\u001b[0m\n",
      "\u001b[1;31mKeyboardInterrupt\u001b[0m: "
     ]
    }
   ],
   "source": [
    "import tkinter as tk\n",
    "\n",
    "root = tk.Tk()\n",
    "\n",
    "label1 = tk.Label(root, text=\"Dhananjay Kokate\", bg=\"red\",width=60, height= 10)\n",
    "label1.pack()\n",
    "\n",
    "label2 = tk.Label(root, text=\"112103073\", bg=\"blue\",width=60, height= 10)\n",
    "label2.pack()\n",
    "\n",
    "root.mainloop()\n"
   ]
  },
  {
   "cell_type": "code",
   "execution_count": null,
   "id": "1e1da019",
   "metadata": {},
   "outputs": [
    {
     "name": "stdout",
     "output_type": "stream",
     "text": [
      "New File Created!!!\n"
     ]
    }
   ],
   "source": [
    "from tkinter import *\n",
    "root = Tk()\n",
    "root.title('Assignment 4 :  112103073')\n",
    "\n",
    "def new_file():\n",
    "    print(\"New File Created!!!\")\n",
    "def save_file():\n",
    "    print(\"File Saved!!!\")\n",
    "    \n",
    "menubar = Menu(root)\n",
    "\n",
    "file = Menu(menubar, tearoff = 0)\n",
    "menubar.add_cascade(label ='File', menu = file)\n",
    "file.add_command(label ='New File', command = new_file)\n",
    "file.add_command(label ='Open...', command = None)\n",
    "file.add_command(label ='Save', command = save_file)\n",
    "file.add_separator()\n",
    "file.add_command(label ='Exit', command = root.destroy)\n",
    "\n",
    "\n",
    "edit = Menu(menubar, tearoff = 0)\n",
    "menubar.add_cascade(label ='Edit', menu = edit)\n",
    "edit.add_command(label ='Cut', command = None)\n",
    "edit.add_command(label ='Copy', command = None)\n",
    "edit.add_command(label ='Paste', command = None)\n",
    "edit.add_command(label ='Select All', command = None)\n",
    "edit.add_separator()\n",
    "edit.add_command(label ='Find...', command = None)\n",
    "edit.add_command(label ='Find again', command = None)\n",
    "\n",
    "\n",
    "help_ = Menu(menubar, tearoff = 0)\n",
    "menubar.add_cascade(label ='Help', menu = help_)\n",
    "help_.add_command(label ='Tk Help', command = None)\n",
    "help_.add_command(label ='Demo', command = None)\n",
    "help_.add_separator()\n",
    "help_.add_command(label ='About Tk', command = None)\n",
    "\n",
    "\n",
    "root.config(menu = menubar)\n",
    "mainloop()\n"
   ]
  },
  {
   "cell_type": "code",
   "execution_count": null,
   "id": "00e0c1b6",
   "metadata": {},
   "outputs": [],
   "source": []
  },
  {
   "cell_type": "code",
   "execution_count": null,
   "id": "c6738bd0",
   "metadata": {},
   "outputs": [],
   "source": []
  }
 ],
 "metadata": {
  "kernelspec": {
   "display_name": "Python 3 (ipykernel)",
   "language": "python",
   "name": "python3"
  },
  "language_info": {
   "codemirror_mode": {
    "name": "ipython",
    "version": 3
   },
   "file_extension": ".py",
   "mimetype": "text/x-python",
   "name": "python",
   "nbconvert_exporter": "python",
   "pygments_lexer": "ipython3",
   "version": "3.9.13"
  }
 },
 "nbformat": 4,
 "nbformat_minor": 5
}
